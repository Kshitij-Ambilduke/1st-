{
  "nbformat": 4,
  "nbformat_minor": 0,
  "metadata": {
    "colab": {
      "name": "ConvNet",
      "provenance": [],
      "collapsed_sections": [],
      "authorship_tag": "ABX9TyOiem2w6Zl8IM+NiZtgT9RK",
      "include_colab_link": true
    },
    "kernelspec": {
      "name": "python3",
      "display_name": "Python 3"
    },
    "accelerator": "GPU"
  },
  "cells": [
    {
      "cell_type": "markdown",
      "metadata": {
        "id": "view-in-github",
        "colab_type": "text"
      },
      "source": [
        "<a href=\"https://colab.research.google.com/github/Kshitij-Ambilduke/Meme-vs-Notes/blob/master/ConvNet.ipynb\" target=\"_parent\"><img src=\"https://colab.research.google.com/assets/colab-badge.svg\" alt=\"Open In Colab\"/></a>"
      ]
    },
    {
      "cell_type": "markdown",
      "metadata": {
        "id": "pWyFPNLexHq9",
        "colab_type": "text"
      },
      "source": [
        "# **Memes vs Notes Classifier**"
      ]
    },
    {
      "cell_type": "markdown",
      "metadata": {
        "id": "azRaSb0LRm3f",
        "colab_type": "text"
      },
      "source": [
        "First we mount the drive containing the dataset so that we can read data from the drive and transform it as we want to.\n",
        "To do this we run the below code block and copy the password generated for us in the link provided by logging in and pasting it here.\n",
        "\n",
        "\n",
        "```python\n",
        "drive.mount('/content/drive') can be replaced by drive.mount('/content/gdrive)\n",
        "``` \n",
        "\n",
        "\n"
      ]
    },
    {
      "cell_type": "code",
      "metadata": {
        "id": "nWmifWm76Vx5",
        "colab_type": "code",
        "colab": {
          "base_uri": "https://localhost:8080/",
          "height": 128
        },
        "outputId": "cea036cd-6868-4bc6-c677-c1931b0fef4e"
      },
      "source": [
        "from google.colab import drive\n",
        "drive.mount('/content/drive')"
      ],
      "execution_count": 1,
      "outputs": [
        {
          "output_type": "stream",
          "text": [
            "Go to this URL in a browser: https://accounts.google.com/o/oauth2/auth?client_id=947318989803-6bn6qk8qdgf4n4g3pfee6491hc0brc4i.apps.googleusercontent.com&redirect_uri=urn%3aietf%3awg%3aoauth%3a2.0%3aoob&response_type=code&scope=email%20https%3a%2f%2fwww.googleapis.com%2fauth%2fdocs.test%20https%3a%2f%2fwww.googleapis.com%2fauth%2fdrive%20https%3a%2f%2fwww.googleapis.com%2fauth%2fdrive.photos.readonly%20https%3a%2f%2fwww.googleapis.com%2fauth%2fpeopleapi.readonly\n",
            "\n",
            "Enter your authorization code:\n",
            "··········\n",
            "Mounted at /content/drive\n"
          ],
          "name": "stdout"
        }
      ]
    },
    {
      "cell_type": "markdown",
      "metadata": {
        "id": "QCHt-VdmTDWU",
        "colab_type": "text"
      },
      "source": [
        "After having access to all the images in the dataset, we go ahead and import some important packages that will help us in reading the dataset, preprocessing and using the preprocessed data to build our model that differenciates between memes and notes.\n",
        "```python\n",
        "import os # To loacte the data and making list of all the data in a particular folder\n",
        "import cv2 # For reading the images, resizing them and converting them to a desired colour space\n",
        "import random # For Shuffling the data\n",
        "import torch # For Neural Networks\n",
        "```"
      ]
    },
    {
      "cell_type": "code",
      "metadata": {
        "id": "DADlo3x96Hed",
        "colab_type": "code",
        "colab": {}
      },
      "source": [
        "import os\n",
        "import torch\n",
        "import torch.nn as nn\n",
        "import torch.nn.functional as F\n",
        "import cv2\n",
        "import random\n",
        "import numpy as np"
      ],
      "execution_count": 2,
      "outputs": []
    },
    {
      "cell_type": "markdown",
      "metadata": {
        "id": "OOTnm3noVhJ1",
        "colab_type": "text"
      },
      "source": [
        "Defining path for memes as ```meme_path``` and the path for notes as ```note_path```"
      ]
    },
    {
      "cell_type": "code",
      "metadata": {
        "id": "8jd30GthEV9x",
        "colab_type": "code",
        "colab": {}
      },
      "source": [
        "meme_path = \"/content/drive/My Drive/dataset stage 0 /meme\"\n",
        "note_path = \"/content/drive/My Drive/dataset stage 0 /note\""
      ],
      "execution_count": 3,
      "outputs": []
    },
    {
      "cell_type": "markdown",
      "metadata": {
        "id": "MT6Jt-3iV4tc",
        "colab_type": "text"
      },
      "source": [
        "Defining a pseudo-dataloader as ```dataloader``` so as to load the data from the path that is passed as an argument ```folder``` and the label to be given to this  folder is passed through the argument ```label```.\n",
        "This function can be fine tuned so as to the desired form of the images from the folder.\n",
        "Note that all the images from the same folder are labeled with the 2nd argument passed in the function. \n",
        "Here we are using the size ```(100 x 100)``` and the grayscale colour.\n",
        "The function returns 2 lists, 1st the resized images and 2nd the labels for these images."
      ]
    },
    {
      "cell_type": "code",
      "metadata": {
        "id": "kQFkaKQJFGhg",
        "colab_type": "code",
        "colab": {}
      },
      "source": [
        "def dataloader(folder,label):\n",
        "    images=[]\n",
        "    labels=[]\n",
        "    for file in os.listdir(folder):\n",
        "        img = cv2.imread(os.path.join(folder,file),0)\n",
        "        #img = cv2.cvtColor(img, cv2.COLOR_BGR2RGB)\n",
        "        img = cv2.resize(img, (100,100))\n",
        "        images.append(img)\n",
        "        labels.append(label)\n",
        "    return images, labels"
      ],
      "execution_count": 4,
      "outputs": []
    },
    {
      "cell_type": "markdown",
      "metadata": {
        "id": "4AwDnqrBYfrT",
        "colab_type": "text"
      },
      "source": [
        "Defining variables for containing the memes and the labels for meme as ```meme``` and ```memelabel``` respectively. Similarly defining variables for notes and label for notes as ```note``` and ```notelabel``` respectively."
      ]
    },
    {
      "cell_type": "code",
      "metadata": {
        "id": "rn91UjU3FIu9",
        "colab_type": "code",
        "colab": {}
      },
      "source": [
        "meme, memelabel = dataloader(meme_path, 1)\n",
        "note, notelabel = dataloader(note_path, 0)"
      ],
      "execution_count": 5,
      "outputs": []
    },
    {
      "cell_type": "markdown",
      "metadata": {
        "id": "qPiH6eSIZD1r",
        "colab_type": "text"
      },
      "source": [
        "\n",
        "\n",
        "Converting all the lists into numpy arrays and reshaping them in the format ```(number of images x channels in the image x height of the image x width of the image)```. For a RGB image the number of channels will be 3 and for a RGB image, the number of channel will be 1.\n",
        "\n"
      ]
    },
    {
      "cell_type": "code",
      "metadata": {
        "id": "PHo4M31CFLVE",
        "colab_type": "code",
        "colab": {}
      },
      "source": [
        "meme = np.array(meme)\n",
        "memelabel = np.array(memelabel)\n",
        "#print(meme.__len__())\n",
        "meme = meme.reshape(800,1,100,100)\n",
        "note = np.array(note)\n",
        "note = note.reshape(800,1,100,100)\n",
        "notelabel = np.array(notelabel)\n",
        "#print(len(notelabel))"
      ],
      "execution_count": 6,
      "outputs": []
    },
    {
      "cell_type": "markdown",
      "metadata": {
        "id": "4a40s32GbOHi",
        "colab_type": "text"
      },
      "source": [
        "Zipping together the images and labels so as to Shuffle them."
      ]
    },
    {
      "cell_type": "code",
      "metadata": {
        "id": "NjDqJlebFXFE",
        "colab_type": "code",
        "colab": {}
      },
      "source": [
        "memezip = list(zip(meme, memelabel))\n",
        "notezip = list(zip(note, notelabel))"
      ],
      "execution_count": 7,
      "outputs": []
    },
    {
      "cell_type": "markdown",
      "metadata": {
        "id": "N_rvUCfnbaAv",
        "colab_type": "text"
      },
      "source": [
        "Concatenating the two lists in the variable ```toshuffle``` then shuffling the list containing the zips of both the labels using  ```random.shuffle()``` then unzipping the shuffled list of zips into two variables ```xtest``` and ```ytest``` where ```xtest``` is the list containing the shuffled images and ```ytest``` is the list containing the labels for these images.\n",
        "In the same way ```xtrain```,```ytrain```,```xval```,```yval``` is created.\n"
      ]
    },
    {
      "cell_type": "code",
      "metadata": {
        "id": "6_Q377WQFYOT",
        "colab_type": "code",
        "colab": {}
      },
      "source": [
        "toshuffle = []\n",
        "toshuffle = memezip[0:750] + notezip[0:750]\n",
        "random.shuffle(toshuffle)\n",
        "xtrain, ytrain = list(zip(*toshuffle))\n",
        "\n",
        "toshuffle = []\n",
        "toshuffle = memezip[750:775] + notezip[750:775]\n",
        "random.shuffle(toshuffle)\n",
        "xtest, ytest = list(zip(*toshuffle))\n",
        "\n",
        "toshuffle = []\n",
        "toshuffle = memezip[775:] + notezip[775:]\n",
        "random.shuffle(toshuffle)\n",
        "xval, yval = list(zip(*toshuffle))"
      ],
      "execution_count": 46,
      "outputs": []
    },
    {
      "cell_type": "markdown",
      "metadata": {
        "id": "kbhCyoBig-VF",
        "colab_type": "text"
      },
      "source": [
        "Now that we have our data all sorted out, its time to convert our data into tensor so as to use it with pytorch module.\n",
        "While calculating the loss, the labels of the data are expected to be of ```Long``` datatype so we convert the labels into ```long``` datatype."
      ]
    },
    {
      "cell_type": "markdown",
      "metadata": {
        "id": "_nfSBtKijoKl",
        "colab_type": "text"
      },
      "source": [
        "We have also segregated the data into training, validation and testing data.\n",
        "Out of the **1600** images available to us in the dataset, we chose **1500** images for training, 50 for validation and **50** for testing. This gives us a training set of **93.75%** of the dataset and the validation and testing set bith **3.125%** of the total dataset. Here we have adopted a very primitive technique of normalization that being dividing all the pixels of the image by 255 thereby bringing each of the pixels' value between 0 and 1."
      ]
    },
    {
      "cell_type": "code",
      "metadata": {
        "id": "EtsW8-IZFkoy",
        "colab_type": "code",
        "colab": {}
      },
      "source": [
        "xtrain = torch.Tensor(xtrain)\n",
        "xtest = torch.Tensor(xtest)\n",
        "xval = torch.Tensor(xval)\n",
        "ytrain = torch.Tensor(ytrain).long()\n",
        "ytest = torch.Tensor(ytest).long()\n",
        "yval = torch.Tensor(yval).long()\n",
        "xtrain/=255.0\n",
        "xtest/=255.0\n",
        "xval /=255.0"
      ],
      "execution_count": 47,
      "outputs": []
    },
    {
      "cell_type": "markdown",
      "metadata": {
        "id": "34Yr46EslqfS",
        "colab_type": "text"
      },
      "source": [
        "Now we start to define our neural network. We start by creating a class ```ConvNet``` which inherit from the parent class of pytorch ```nn.Module```. The attributes of this class are the layers of the neural network are the layers of our convolutional neural network. We use ```nn.Sequntial``` for bunching a couple of layes together.\n",
        "The Architechture of the neural network is as follows:\n",
        "\n",
        "\n",
        "1.   Convolutional layer taking 1 channel and giving 16 channels with a kernel size of ```5x5``` followed by a ReLU activation and then a Max Pool layer with a ```kernel_size = 2``` and ```stride = 2```\n",
        "2.   Convolutional layer taking 16 channel and giving 32 channels with a kernel size of ```5x5``` followed by a ReLU activation and then a Max Pool layer with a ```kernel_size = 2``` and ```stride = 2```\n",
        "3.   Convolutional layer taking 32 channel and giving 48 channels with a kernel size of ```5x5``` followed by a ReLU activation and then a Max Pool layer with a ```kernel_size = 2``` and ```stride = 2```\n",
        "4.    Couple of Linear layer with ```input_features = 2888``` i.e. the flattened output of the convolutional layers, then hidden layer containing ```500``` neurons and the output layer containing ```2``` neurons which depict the binary nature of our classification.\n"
      ]
    },
    {
      "cell_type": "code",
      "metadata": {
        "id": "p3BFTLic6iBL",
        "colab_type": "code",
        "colab": {}
      },
      "source": [
        "class ConvNet(nn.Module):\n",
        "  \n",
        "  def __init__(self):\n",
        "    super().__init__()\n",
        "    \n",
        "    self.l1 = nn.Sequential(nn.Conv2d(1,16,5),\n",
        "                       nn.ReLU(),\n",
        "                       nn.MaxPool2d(2,2))\n",
        "    \n",
        "    self.l2 = nn.Sequential(nn.Conv2d(16,32,3),\n",
        "                       nn.ReLU(),\n",
        "                       nn.MaxPool2d(2,2))\n",
        "    \n",
        "    self.l3 = nn.Sequential(nn.Conv2d(32,48,5),\n",
        "                       nn.ReLU(),\n",
        "                       nn.MaxPool2d(2,2))\n",
        "\n",
        "    self.l4 = nn.Sequential(nn.Linear(48*9*9,500),\n",
        "                       nn.Linear(500,2))\n",
        "    \n",
        "  def forward(self,x):\n",
        "\n",
        "    x = self.l1(x)\n",
        "    x = self.l2(x)\n",
        "    x = self.l3(x)\n",
        "    x = x.flatten(1)\n",
        "    x = self.l4(x)\n",
        "    return x"
      ],
      "execution_count": 48,
      "outputs": []
    },
    {
      "cell_type": "markdown",
      "metadata": {
        "id": "fhtva7JbuRGF",
        "colab_type": "text"
      },
      "source": [
        "Now we create an instance of the class we just created and print out that instance just to make sure everything is just as we wanted."
      ]
    },
    {
      "cell_type": "code",
      "metadata": {
        "id": "Mg5XBNHsESoq",
        "colab_type": "code",
        "colab": {
          "base_uri": "https://localhost:8080/",
          "height": 399
        },
        "outputId": "5ab642af-8450-4b1f-fcc5-9a6cd3554e43"
      },
      "source": [
        "net = ConvNet()\n",
        "print(net)"
      ],
      "execution_count": 49,
      "outputs": [
        {
          "output_type": "stream",
          "text": [
            "ConvNet(\n",
            "  (l1): Sequential(\n",
            "    (0): Conv2d(1, 16, kernel_size=(5, 5), stride=(1, 1))\n",
            "    (1): ReLU()\n",
            "    (2): MaxPool2d(kernel_size=2, stride=2, padding=0, dilation=1, ceil_mode=False)\n",
            "  )\n",
            "  (l2): Sequential(\n",
            "    (0): Conv2d(16, 32, kernel_size=(3, 3), stride=(1, 1))\n",
            "    (1): ReLU()\n",
            "    (2): MaxPool2d(kernel_size=2, stride=2, padding=0, dilation=1, ceil_mode=False)\n",
            "  )\n",
            "  (l3): Sequential(\n",
            "    (0): Conv2d(32, 48, kernel_size=(5, 5), stride=(1, 1))\n",
            "    (1): ReLU()\n",
            "    (2): MaxPool2d(kernel_size=2, stride=2, padding=0, dilation=1, ceil_mode=False)\n",
            "  )\n",
            "  (l4): Sequential(\n",
            "    (0): Linear(in_features=3888, out_features=500, bias=True)\n",
            "    (1): Linear(in_features=500, out_features=2, bias=True)\n",
            "  )\n",
            ")\n"
          ],
          "name": "stdout"
        }
      ]
    },
    {
      "cell_type": "markdown",
      "metadata": {
        "id": "waJhL1F3uqPC",
        "colab_type": "text"
      },
      "source": [
        "Now it's time we define our optimizer and loss function. Pytorch provied optimizer in the ```torch.optim``` package so we define our optimizer as ```torch.optim.Adam``` optimizer and the loss function as ```nn.CrossEntropyLoss```. This loss function combines the ```softmax``` and the ```NLLloss``` so we need not define the softmax layer at the end of our network. The optimizer requires 2 arguments, 1st the parameters on which the optimization should be performed and 2nd the learning rate. "
      ]
    },
    {
      "cell_type": "code",
      "metadata": {
        "id": "P1LdVFYLNpUU",
        "colab_type": "code",
        "colab": {}
      },
      "source": [
        "optimizer = torch.optim.Adam(net.parameters(),lr=0.0001)\n",
        "lossfn = nn.CrossEntropyLoss()"
      ],
      "execution_count": 50,
      "outputs": []
    },
    {
      "cell_type": "markdown",
      "metadata": {
        "id": "34Zn4WXTv_7u",
        "colab_type": "text"
      },
      "source": [
        "Finally with all the data ready and the loss and optimiser defined, we can now build our accuracy function so as to track the training, testing and validation accuracy.\n",
        "This function takes 2 arguments ```label``` and ```pred```.\n",
        "The argument ```label``` is the actual label matrix that we made while we made the dataset and ```pred``` is a matrix output by the network with contains the confidence score of what the network thinks should be the prediction of the data. We use ```torch.argmax``` to get the index of the highest prediction. The argument ```dim=1``` specifies that for a particular example, the confidence score is distributed along the horizontal. Then by comparing the values in the 2 matrices, we can get the accuracy easily. \n",
        "> While calculating the accuracy, we need to apply the softmax layer so as to get the probability distribution of of the confidence score of the model. This is done because we haven't applied Softmax layer to the output but while loss calculation, due to usage of ```nn.CrossEntropyLoss``` we dont need to separately use Softmax .\n"
      ]
    },
    {
      "cell_type": "code",
      "metadata": {
        "id": "pM5whC3fOErr",
        "colab_type": "code",
        "colab": {}
      },
      "source": [
        "def accuracy(label, pred):\n",
        "  pred = F.softmax(pred, dim=1)\n",
        "  count =0\n",
        "  pred = torch.argmax(pred, dim=1, keepdims=True)\n",
        "  pred = pred.reshape(pred.shape[0])\n",
        "  for i in range(len(label)):\n",
        "    if label[i]==pred[i]:\n",
        "      count+=1\n",
        "  return 100*count/label.shape[0]\n"
      ],
      "execution_count": 51,
      "outputs": []
    },
    {
      "cell_type": "markdown",
      "metadata": {
        "id": "acvDaAv-T2VJ",
        "colab_type": "text"
      },
      "source": [
        "Now we define our main loop which will contain everything and it will do all the calculations necessary for our network to learn. I have chosen a mini-batch of size 50 and 3 epochs. The training accuracy, testing accuracy and validation accuracy is stored in the lists ```trainacc```,```testacc``` and ```valacc``` respectively. Similarly, the training and validation loss is stored in ```trainloss``` and ```valloss``` respectively."
      ]
    },
    {
      "cell_type": "code",
      "metadata": {
        "id": "2OsVixXBLidy",
        "colab_type": "code",
        "colab": {
          "base_uri": "https://localhost:8080/",
          "height": 1000
        },
        "outputId": "7d3ac52b-e448-41a4-9000-e6ba8d1e539d"
      },
      "source": [
        "trainacc = []\n",
        "testacc = []\n",
        "trainloss = []\n",
        "testloss = []\n",
        "valacc = []\n",
        "valloss = []\n",
        "\n",
        "for i in range(10):\n",
        "    k=0\n",
        "    for j in range(30): \n",
        "      \n",
        "      output = net.forward(xtrain[k:k+50])\n",
        "      loss = lossfn(output, ytrain[k:k+50])\n",
        "        \n",
        "      k+=50\n",
        "      optimizer.zero_grad()\n",
        "      loss.backward()\n",
        "      optimizer.step()\n",
        "    \n",
        "    with torch.no_grad():\n",
        "\n",
        "      accu = accuracy(ytrain, net.forward(xtrain))\n",
        "      vloss = lossfn(net.forward(xval),yval)\n",
        "      tacc = accuracy(ytest, net.forward(xtest))\n",
        "      vacc = accuracy(yval,net.forward(xval))\n",
        "\n",
        "    \n",
        "    print(f\"training loss:{loss}\")\n",
        "    trainloss.append(loss)\n",
        "    print(f\"validation loss:{vloss}\")\n",
        "    valloss.append(vloss.item())\n",
        "    print(f\"training accuracy:{accu}\")\n",
        "    trainacc.append(accu)\n",
        "    print(f\"validation accuracy:{vacc}\")\n",
        "    valacc.append(vacc)\n",
        "    print(f\"testing accuracy:{tacc}\")\n",
        "    testacc.append(tacc)\n",
        "    print()"
      ],
      "execution_count": 52,
      "outputs": [
        {
          "output_type": "stream",
          "text": [
            "training loss:0.30980977416038513\n",
            "validation loss:0.26092788577079773\n",
            "training accuracy:95.46666666666667\n",
            "validation accuracy:94.0\n",
            "testing accuracy:92.0\n",
            "\n",
            "training loss:0.3026829659938812\n",
            "validation loss:0.22151347994804382\n",
            "training accuracy:94.33333333333333\n",
            "validation accuracy:88.0\n",
            "testing accuracy:90.0\n",
            "\n",
            "training loss:0.2543073892593384\n",
            "validation loss:0.1973298192024231\n",
            "training accuracy:95.86666666666666\n",
            "validation accuracy:90.0\n",
            "testing accuracy:90.0\n",
            "\n",
            "training loss:0.25176501274108887\n",
            "validation loss:0.19942444562911987\n",
            "training accuracy:95.93333333333334\n",
            "validation accuracy:90.0\n",
            "testing accuracy:92.0\n",
            "\n",
            "training loss:0.21988777816295624\n",
            "validation loss:0.1735534518957138\n",
            "training accuracy:96.46666666666667\n",
            "validation accuracy:90.0\n",
            "testing accuracy:94.0\n",
            "\n",
            "training loss:0.19349569082260132\n",
            "validation loss:0.14633622765541077\n",
            "training accuracy:97.2\n",
            "validation accuracy:94.0\n",
            "testing accuracy:96.0\n",
            "\n",
            "training loss:0.17796549201011658\n",
            "validation loss:0.13277286291122437\n",
            "training accuracy:97.66666666666667\n",
            "validation accuracy:94.0\n",
            "testing accuracy:96.0\n",
            "\n",
            "training loss:0.16344648599624634\n",
            "validation loss:0.12619416415691376\n",
            "training accuracy:97.86666666666666\n",
            "validation accuracy:94.0\n",
            "testing accuracy:96.0\n",
            "\n",
            "training loss:0.15217959880828857\n",
            "validation loss:0.12443678826093674\n",
            "training accuracy:98.0\n",
            "validation accuracy:94.0\n",
            "testing accuracy:96.0\n",
            "\n",
            "training loss:0.14310984313488007\n",
            "validation loss:0.1258121132850647\n",
            "training accuracy:98.0\n",
            "validation accuracy:96.0\n",
            "testing accuracy:98.0\n",
            "\n"
          ],
          "name": "stdout"
        }
      ]
    },
    {
      "cell_type": "markdown",
      "metadata": {
        "id": "dIS8GNjktbgo",
        "colab_type": "text"
      },
      "source": [
        "## **Note:**\n",
        "> If you are re-running the program start from the point where we made ```xtrain```,```ytrain``` ....\n"
      ]
    },
    {
      "cell_type": "code",
      "metadata": {
        "id": "KgotRT7bqC6i",
        "colab_type": "code",
        "colab": {
          "base_uri": "https://localhost:8080/",
          "height": 35
        },
        "outputId": "dd34bcc5-27dc-4b28-cfaf-ca8b8c4e316c"
      },
      "source": [
        "print(xtrain.shape)"
      ],
      "execution_count": 53,
      "outputs": [
        {
          "output_type": "stream",
          "text": [
            "torch.Size([1500, 1, 100, 100])\n"
          ],
          "name": "stdout"
        }
      ]
    },
    {
      "cell_type": "code",
      "metadata": {
        "id": "6hyuuGRONm8J",
        "colab_type": "code",
        "colab": {}
      },
      "source": [
        "from matplotlib import pyplot as plt\n",
        "def plot(data):\n",
        "  plt.plot(data)\n",
        "  plt.show()"
      ],
      "execution_count": 54,
      "outputs": []
    },
    {
      "cell_type": "code",
      "metadata": {
        "id": "rQKUaeCdTVSr",
        "colab_type": "code",
        "colab": {
          "base_uri": "https://localhost:8080/",
          "height": 265
        },
        "outputId": "17710998-76c5-4cd2-ad0b-85524bb26a49"
      },
      "source": [
        "plot(testacc)"
      ],
      "execution_count": 55,
      "outputs": [
        {
          "output_type": "display_data",
          "data": {
            "image/png": "[encoded data removed]",
            "text/plain": [
              "<Figure size 432x288 with 1 Axes>"
            ]
          },
          "metadata": {
            "tags": [],
            "needs_background": "light"
          }
        }
      ]
    },
    {
      "cell_type": "code",
      "metadata": {
        "id": "AbrEL5EK74fU",
        "colab_type": "code",
        "colab": {
          "base_uri": "https://localhost:8080/",
          "height": 265
        },
        "outputId": "14abe015-129c-40aa-8ee4-c8bc0af1ffcf"
      },
      "source": [
        "plot(trainacc)"
      ],
      "execution_count": 56,
      "outputs": [
        {
          "output_type": "display_data",
          "data": {
            "image/png": "[encoded data removed]",
            "text/plain": [
              "<Figure size 432x288 with 1 Axes>"
            ]
          },
          "metadata": {
            "tags": [],
            "needs_background": "light"
          }
        }
      ]
    },
    {
      "cell_type": "code",
      "metadata": {
        "id": "fmR6LNAJOwCI",
        "colab_type": "code",
        "colab": {
          "base_uri": "https://localhost:8080/",
          "height": 265
        },
        "outputId": "1c445ac4-aa7c-4309-982c-520100b2b6e6"
      },
      "source": [
        "plot(valacc)"
      ],
      "execution_count": 57,
      "outputs": [
        {
          "output_type": "display_data",
          "data": {
            "image/png": "[encoded data removed]",
            "text/plain": [
              "<Figure size 432x288 with 1 Axes>"
            ]
          },
          "metadata": {
            "tags": [],
            "needs_background": "light"
          }
        }
      ]
    },
    {
      "cell_type": "code",
      "metadata": {
        "id": "MLvvfWpCOXIN",
        "colab_type": "code",
        "colab": {
          "base_uri": "https://localhost:8080/",
          "height": 265
        },
        "outputId": "a5d9721e-8dc2-4ee5-ad69-66db3b5dec99"
      },
      "source": [
        "plot(trainloss)"
      ],
      "execution_count": 58,
      "outputs": [
        {
          "output_type": "display_data",
          "data": {
            "image/png": "[encoded data removed]",
            "text/plain": [
              "<Figure size 432x288 with 1 Axes>"
            ]
          },
          "metadata": {
            "tags": [],
            "needs_background": "light"
          }
        }
      ]
    },
    {
      "cell_type": "code",
      "metadata": {
        "id": "gaPEb4UzOpMi",
        "colab_type": "code",
        "colab": {
          "base_uri": "https://localhost:8080/",
          "height": 265
        },
        "outputId": "c8d51059-0908-40a0-94e8-408f643cb540"
      },
      "source": [
        "plot(valloss)"
      ],
      "execution_count": 59,
      "outputs": [
        {
          "output_type": "display_data",
          "data": {
            "image/png": "[encoded data removed]",
            "text/plain": [
              "<Figure size 432x288 with 1 Axes>"
            ]
          },
          "metadata": {
            "tags": [],
            "needs_background": "light"
          }
        }
      ]
    },
    {
      "cell_type": "code",
      "metadata": {
        "id": "3BcN4_xwQk5I",
        "colab_type": "code",
        "colab": {}
      },
      "source": [
        ""
      ],
      "execution_count": null,
      "outputs": []
    }
  ]
}