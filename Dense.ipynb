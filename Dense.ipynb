{
  "nbformat": 4,
  "nbformat_minor": 0,
  "metadata": {
    "colab": {
      "name": "Dense.ipynb",
      "provenance": [],
      "collapsed_sections": [],
      "authorship_tag": "ABX9TyPIebWDcXtcZgZy94k4WPbt",
      "include_colab_link": true
    },
    "kernelspec": {
      "name": "python3",
      "display_name": "Python 3"
    },
    "accelerator": "GPU"
  },
  "cells": [
    {
      "cell_type": "markdown",
      "metadata": {
        "id": "view-in-github",
        "colab_type": "text"
      },
      "source": [
        "<a href=\"https://colab.research.google.com/github/Kshitij-Ambilduke/1st-/blob/master/Dense.ipynb\" target=\"_parent\"><img src=\"https://colab.research.google.com/assets/colab-badge.svg\" alt=\"Open In Colab\"/></a>"
      ]
    },
    {
      "cell_type": "code",
      "metadata": {
        "id": "FpufTlbe8_GC",
        "colab_type": "code",
        "colab": {
          "base_uri": "https://localhost:8080/",
          "height": 35
        },
        "outputId": "96cca166-5b52-4b61-a184-4277292c72e6"
      },
      "source": [
        "from google.colab import drive\n",
        "drive.mount('/content/drive')"
      ],
      "execution_count": 1,
      "outputs": [
        {
          "output_type": "stream",
          "text": [
            "Drive already mounted at /content/drive; to attempt to forcibly remount, call drive.mount(\"/content/drive\", force_remount=True).\n"
          ],
          "name": "stdout"
        }
      ]
    },
    {
      "cell_type": "code",
      "metadata": {
        "id": "HKSSRKr1LxJy",
        "colab_type": "code",
        "colab": {}
      },
      "source": [
        "import os\n",
        "import torch\n",
        "import torch.nn as nn\n",
        "import torch.nn.functional as F\n",
        "import cv2\n",
        "import random\n",
        "import numpy as np"
      ],
      "execution_count": 2,
      "outputs": []
    },
    {
      "cell_type": "code",
      "metadata": {
        "id": "4AtzM5uMk8OR",
        "colab_type": "code",
        "colab": {}
      },
      "source": [
        "meme_path = \"/content/drive/My Drive/dataset stage 0 /meme\"\n",
        "note_path = \"/content/drive/My Drive/dataset stage 0 /note\""
      ],
      "execution_count": 3,
      "outputs": []
    },
    {
      "cell_type": "code",
      "metadata": {
        "id": "LrUUQNUylL8D",
        "colab_type": "code",
        "colab": {}
      },
      "source": [
        "def dataloader(folder,label):\n",
        "    images=[]\n",
        "    labels=[]\n",
        "    for file in os.listdir(folder):\n",
        "        img = cv2.imread(os.path.join(folder,file))\n",
        "        img = cv2.cvtColor(img, cv2.COLOR_BGR2RGB)\n",
        "        img = cv2.resize(img, (100,100))\n",
        "        images.append(img)\n",
        "        labels.append(label)\n",
        "    return images, labels\n",
        "        "
      ],
      "execution_count": 4,
      "outputs": []
    },
    {
      "cell_type": "code",
      "metadata": {
        "id": "P52iBln1lNcv",
        "colab_type": "code",
        "colab": {}
      },
      "source": [
        "meme, memelabel = dataloader(meme_path, 1)\n",
        "note, notelabel = dataloader(note_path, 0)"
      ],
      "execution_count": 5,
      "outputs": []
    },
    {
      "cell_type": "code",
      "metadata": {
        "id": "hPoGHxh5ISo7",
        "colab_type": "code",
        "colab": {
          "base_uri": "https://localhost:8080/",
          "height": 35
        },
        "outputId": "c4e17ab5-61c9-4806-dad8-b44a2a0174f4"
      },
      "source": [
        "meme = np.array(meme)\n",
        "memelabel = np.array(memelabel)\n",
        "print(meme.__len__())"
      ],
      "execution_count": 6,
      "outputs": [
        {
          "output_type": "stream",
          "text": [
            "800\n"
          ],
          "name": "stdout"
        }
      ]
    },
    {
      "cell_type": "code",
      "metadata": {
        "id": "gvQcpjQBI356",
        "colab_type": "code",
        "colab": {
          "base_uri": "https://localhost:8080/",
          "height": 35
        },
        "outputId": "e3a8d5fa-fa15-471b-e8bb-1ed4178eeef3"
      },
      "source": [
        "meme = meme.reshape(800,3,100,100)\n",
        "note = np.array(note)\n",
        "note = note.reshape(800,3,100,100)\n",
        "notelabel = np.array(notelabel)\n",
        "print(len(notelabel))"
      ],
      "execution_count": 7,
      "outputs": [
        {
          "output_type": "stream",
          "text": [
            "800\n"
          ],
          "name": "stdout"
        }
      ]
    },
    {
      "cell_type": "code",
      "metadata": {
        "id": "de_z7_EpiKsW",
        "colab_type": "code",
        "colab": {
          "base_uri": "https://localhost:8080/",
          "height": 54
        },
        "outputId": "d3fd9e7f-0af4-4f86-eee8-9749dfba57be"
      },
      "source": [
        "print(note.shape)\n",
        "print(meme.shape)"
      ],
      "execution_count": 8,
      "outputs": [
        {
          "output_type": "stream",
          "text": [
            "(800, 3, 100, 100)\n",
            "(800, 3, 100, 100)\n"
          ],
          "name": "stdout"
        }
      ]
    },
    {
      "cell_type": "code",
      "metadata": {
        "id": "DgpV0oDbI91J",
        "colab_type": "code",
        "colab": {}
      },
      "source": [
        "memezip = list(zip(meme, memelabel))\n",
        "notezip = list(zip(note, notelabel))"
      ],
      "execution_count": 9,
      "outputs": []
    },
    {
      "cell_type": "code",
      "metadata": {
        "id": "NmDMTIhUJBFN",
        "colab_type": "code",
        "colab": {}
      },
      "source": [
        "toshuffle = []\n",
        "toshuffle = memezip[0:750] + notezip[0:750]\n",
        "random.shuffle(toshuffle)\n",
        "xtrain, ytrain = list(zip(*toshuffle))\n",
        "\n",
        "toshuffle = []\n",
        "toshuffle = memezip[750:775] + notezip[750:775]\n",
        "random.shuffle(toshuffle)\n",
        "xtest, ytest = list(zip(*toshuffle))\n",
        "\n",
        "toshuffle = []\n",
        "toshuffle = memezip[775:] + notezip[775:]\n",
        "random.shuffle(toshuffle)\n",
        "xval, yval = list(zip(*toshuffle))"
      ],
      "execution_count": 10,
      "outputs": []
    },
    {
      "cell_type": "code",
      "metadata": {
        "id": "TbsPKQs6x9FQ",
        "colab_type": "code",
        "colab": {}
      },
      "source": [
        "xtrain = torch.Tensor(xtrain)\n",
        "xtest = torch.Tensor(xtest)\n",
        "xval = torch.Tensor(xval)\n",
        "ytrain = torch.Tensor(ytrain).long()\n",
        "ytest = torch.Tensor(ytest).long()\n",
        "yval = torch.Tensor(yval).long()\n",
        "xtrain/=255.0\n",
        "xtest/=255.0\n",
        "xval /=255.0"
      ],
      "execution_count": 11,
      "outputs": []
    },
    {
      "cell_type": "code",
      "metadata": {
        "id": "iqGqfUFLJOfW",
        "colab_type": "code",
        "colab": {}
      },
      "source": [
        "class DenseNet(nn.Module):\n",
        "    def __init__(self):\n",
        "        super().__init__()\n",
        "        self.dense1 = nn.Linear(30000, 10000)\n",
        "        self.dense2 = nn.Linear(10000, 5000)\n",
        "        self.dense3 = nn.Linear(5000,1000)\n",
        "        self.dense4 = nn.Linear(1000,100)\n",
        "        self.dense5 = nn.Linear(100,2)\n",
        "    def forward(self,x):\n",
        "        x = x.flatten(1)\n",
        "        x = self.dense1(x)\n",
        "        x = F.relu(x)\n",
        "        x = self.dense2(x)\n",
        "        x = F.relu(x)\n",
        "        x = self.dense3(x)\n",
        "        x = F.relu(x)\n",
        "        x = self.dense4(x)\n",
        "        x = F.relu(x)\n",
        "        x = self.dense5(x)\n",
        "        return x"
      ],
      "execution_count": 12,
      "outputs": []
    },
    {
      "cell_type": "code",
      "metadata": {
        "id": "S1GnN0UxJS2G",
        "colab_type": "code",
        "colab": {
          "base_uri": "https://localhost:8080/",
          "height": 145
        },
        "outputId": "2fe7ffd1-f619-4fd6-fb7f-5f94c12b7847"
      },
      "source": [
        "net = DenseNet()\n",
        "print(net)"
      ],
      "execution_count": 13,
      "outputs": [
        {
          "output_type": "stream",
          "text": [
            "DenseNet(\n",
            "  (dense1): Linear(in_features=30000, out_features=10000, bias=True)\n",
            "  (dense2): Linear(in_features=10000, out_features=5000, bias=True)\n",
            "  (dense3): Linear(in_features=5000, out_features=1000, bias=True)\n",
            "  (dense4): Linear(in_features=1000, out_features=100, bias=True)\n",
            "  (dense5): Linear(in_features=100, out_features=2, bias=True)\n",
            ")\n"
          ],
          "name": "stdout"
        }
      ]
    },
    {
      "cell_type": "code",
      "metadata": {
        "id": "EZqKfqrlJT5V",
        "colab_type": "code",
        "colab": {}
      },
      "source": [
        "optimizer = torch.optim.Adam(net.parameters(),lr=0.0001)\n",
        "vlossfn = nn.CrossEntropyLoss()\n",
        "lossfn = nn.CrossEntropyLoss()"
      ],
      "execution_count": 14,
      "outputs": []
    },
    {
      "cell_type": "code",
      "metadata": {
        "id": "OlRAhNRn-gAh",
        "colab_type": "code",
        "colab": {
          "base_uri": "https://localhost:8080/",
          "height": 72
        },
        "outputId": "88495c34-b7e8-4c9a-a80d-6cb6ddb32668"
      },
      "source": [
        "print(xtrain.shape)\n",
        "print(xtest.shape)\n",
        "print(xval.shape)"
      ],
      "execution_count": 15,
      "outputs": [
        {
          "output_type": "stream",
          "text": [
            "torch.Size([1500, 3, 100, 100])\n",
            "torch.Size([50, 3, 100, 100])\n",
            "torch.Size([50, 3, 100, 100])\n"
          ],
          "name": "stdout"
        }
      ]
    },
    {
      "cell_type": "code",
      "metadata": {
        "id": "FMUchw-c-9ql",
        "colab_type": "code",
        "colab": {}
      },
      "source": [
        "def accuracy(label, pred):\n",
        "  count =0\n",
        "  pred = torch.argmax(pred, dim=1, keepdims=True)\n",
        "  pred = pred.reshape(pred.shape[0])\n",
        "  for i in range(len(label)):\n",
        "    if label[i]==pred[i]:\n",
        "      count+=1\n",
        "  return 100*count/label.shape[0]\n"
      ],
      "execution_count": 16,
      "outputs": []
    },
    {
      "cell_type": "code",
      "metadata": {
        "id": "N2g1p0jdkcSu",
        "colab_type": "code",
        "colab": {
          "base_uri": "https://localhost:8080/",
          "height": 35
        },
        "outputId": "e829bb67-61ac-4063-9927-e5ef0e3ad36f"
      },
      "source": [
        "print(xtest.shape)"
      ],
      "execution_count": 17,
      "outputs": [
        {
          "output_type": "stream",
          "text": [
            "torch.Size([50, 3, 100, 100])\n"
          ],
          "name": "stdout"
        }
      ]
    },
    {
      "cell_type": "code",
      "metadata": {
        "id": "5qOOtnzcJbim",
        "colab_type": "code",
        "colab": {
          "base_uri": "https://localhost:8080/",
          "height": 563
        },
        "outputId": "c28a40f6-581b-49ac-e6bd-3c9db111a084"
      },
      "source": [
        "trainacc=[]\n",
        "testacc=[]\n",
        "trainloss=[]\n",
        "testloss=[]\n",
        "for i in range(7):\n",
        "    k=0\n",
        "    for j in range(30): \n",
        "      \n",
        "      output = net.forward(xtrain[k:k+50])\n",
        "      loss = lossfn(output, ytrain[k:k+50])\n",
        "      trainloss.append(loss)\n",
        "        \n",
        "      k+=50\n",
        "      optimizer.zero_grad()\n",
        "      loss.backward()\n",
        "      optimizer.step()\n",
        "    \n",
        "    with torch.no_grad():\n",
        "      p = net.forward(xtrain)\n",
        "      q = net.forward(xval)\n",
        "      r = net.forward(xtest)\n",
        "      accu = accuracy(ytrain, p)\n",
        "      vloss = lossfn(q,yval)\n",
        "      tacc = accuracy(ytest, r)\n",
        "      vacc = accuracy(yval,q)\n",
        "\n",
        "    print(f\"training loss:{loss}\")\n",
        "    print(f\"validation loss:{vloss}\")\n",
        "    print(f\"training accuracy:{accu}\")\n",
        "    print(f\"validation accuracy:{vacc}\")\n",
        "    print(f\"testing accuracy:{tacc}\")\n",
        "    \n",
        "    print()"
      ],
      "execution_count": 19,
      "outputs": [
        {
          "output_type": "stream",
          "text": [
            "training loss:0.14995110034942627\n",
            "validation loss:0.25222328305244446\n",
            "training accuracy:89.26666666666667\n",
            "validation accuracy:90.0\n",
            "testing accuracy:94.0\n",
            "\n",
            "training loss:0.15073132514953613\n",
            "validation loss:0.21791839599609375\n",
            "training accuracy:94.0\n",
            "validation accuracy:94.0\n",
            "testing accuracy:96.0\n",
            "\n",
            "training loss:0.14619319140911102\n",
            "validation loss:0.21567928791046143\n",
            "training accuracy:94.46666666666667\n",
            "validation accuracy:94.0\n",
            "testing accuracy:96.0\n",
            "\n",
            "training loss:0.08585137128829956\n",
            "validation loss:0.2248944342136383\n",
            "training accuracy:93.4\n",
            "validation accuracy:90.0\n",
            "testing accuracy:90.0\n",
            "\n",
            "training loss:0.19274070858955383\n",
            "validation loss:0.2605351507663727\n",
            "training accuracy:90.13333333333334\n",
            "validation accuracy:86.0\n",
            "testing accuracy:92.0\n",
            "\n"
          ],
          "name": "stdout"
        }
      ]
    }
  ]
}