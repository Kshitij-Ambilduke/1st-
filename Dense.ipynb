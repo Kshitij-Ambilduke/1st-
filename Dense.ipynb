{
  "nbformat": 4,
  "nbformat_minor": 0,
  "metadata": {
    "colab": {
      "name": "Dense.ipynb",
      "provenance": [],
      "collapsed_sections": [],
      "authorship_tag": "ABX9TyO1q2TH1RfTOHAfSVMsyxMb",
      "include_colab_link": true
    },
    "kernelspec": {
      "name": "python3",
      "display_name": "Python 3"
    },
    "accelerator": "GPU"
  },
  "cells": [
    {
      "cell_type": "markdown",
      "metadata": {
        "id": "view-in-github",
        "colab_type": "text"
      },
      "source": [
        "<a href=\"https://colab.research.google.com/github/Kshitij-Ambilduke/Memes-vs-Notes/blob/master/Dense.ipynb\" target=\"_parent\"><img src=\"https://colab.research.google.com/assets/colab-badge.svg\" alt=\"Open In Colab\"/></a>"
      ]
    },
    {
      "cell_type": "code",
      "metadata": {
        "id": "FpufTlbe8_GC",
        "colab_type": "code",
        "colab": {
          "base_uri": "https://localhost:8080/",
          "height": 35
        },
        "outputId": "6b1b13b0-71d2-4b69-8086-66ccbc68e132"
      },
      "source": [
        "from google.colab import drive\n",
        "drive.mount('/content/drive')"
      ],
      "execution_count": 1,
      "outputs": [
        {
          "output_type": "stream",
          "text": [
            "Drive already mounted at /content/drive; to attempt to forcibly remount, call drive.mount(\"/content/drive\", force_remount=True).\n"
          ],
          "name": "stdout"
        }
      ]
    },
    {
      "cell_type": "code",
      "metadata": {
        "id": "HKSSRKr1LxJy",
        "colab_type": "code",
        "colab": {}
      },
      "source": [
        "import os\n",
        "import torch\n",
        "import torch.nn as nn\n",
        "import torch.nn.functional as F\n",
        "import cv2\n",
        "import random\n",
        "import numpy as np"
      ],
      "execution_count": 2,
      "outputs": []
    },
    {
      "cell_type": "code",
      "metadata": {
        "id": "4AtzM5uMk8OR",
        "colab_type": "code",
        "colab": {}
      },
      "source": [
        "meme_path = \"/content/drive/My Drive/dataset stage 0 /meme\"\n",
        "note_path = \"/content/drive/My Drive/dataset stage 0 /note\""
      ],
      "execution_count": 3,
      "outputs": []
    },
    {
      "cell_type": "code",
      "metadata": {
        "id": "LrUUQNUylL8D",
        "colab_type": "code",
        "colab": {}
      },
      "source": [
        "def dataloader(folder,label):\n",
        "    images=[]\n",
        "    labels=[]\n",
        "    for file in os.listdir(folder):\n",
        "        img = cv2.imread(os.path.join(folder,file))\n",
        "        img = cv2.cvtColor(img, cv2.COLOR_BGR2RGB)\n",
        "        img = cv2.resize(img, (100,100))\n",
        "        images.append(img)\n",
        "        labels.append(label)\n",
        "    return images, labels\n",
        "        "
      ],
      "execution_count": 4,
      "outputs": []
    },
    {
      "cell_type": "code",
      "metadata": {
        "id": "P52iBln1lNcv",
        "colab_type": "code",
        "colab": {}
      },
      "source": [
        "meme, memelabel = dataloader(meme_path, 1)\n",
        "note, notelabel = dataloader(note_path, 0)"
      ],
      "execution_count": 5,
      "outputs": []
    },
    {
      "cell_type": "code",
      "metadata": {
        "id": "hPoGHxh5ISo7",
        "colab_type": "code",
        "colab": {
          "base_uri": "https://localhost:8080/",
          "height": 35
        },
        "outputId": "4038f9e2-74f2-4147-aebe-31a85348f76e"
      },
      "source": [
        "meme = np.array(meme)\n",
        "memelabel = np.array(memelabel)\n",
        "print(meme.__len__())"
      ],
      "execution_count": 6,
      "outputs": [
        {
          "output_type": "stream",
          "text": [
            "800\n"
          ],
          "name": "stdout"
        }
      ]
    },
    {
      "cell_type": "code",
      "metadata": {
        "id": "gvQcpjQBI356",
        "colab_type": "code",
        "colab": {
          "base_uri": "https://localhost:8080/",
          "height": 35
        },
        "outputId": "5afd4c3f-e418-4661-9e53-4c493e7e5bc0"
      },
      "source": [
        "meme = meme.reshape(800,3,100,100)\n",
        "note = np.array(note)\n",
        "note = note.reshape(800,3,100,100)\n",
        "notelabel = np.array(notelabel)\n",
        "print(len(notelabel))"
      ],
      "execution_count": 7,
      "outputs": [
        {
          "output_type": "stream",
          "text": [
            "800\n"
          ],
          "name": "stdout"
        }
      ]
    },
    {
      "cell_type": "code",
      "metadata": {
        "id": "de_z7_EpiKsW",
        "colab_type": "code",
        "colab": {
          "base_uri": "https://localhost:8080/",
          "height": 54
        },
        "outputId": "8ffe9c6f-c745-486b-af65-69a30f6771d3"
      },
      "source": [
        "print(note.shape)\n",
        "print(meme.shape)"
      ],
      "execution_count": 8,
      "outputs": [
        {
          "output_type": "stream",
          "text": [
            "(800, 3, 100, 100)\n",
            "(800, 3, 100, 100)\n"
          ],
          "name": "stdout"
        }
      ]
    },
    {
      "cell_type": "code",
      "metadata": {
        "id": "DgpV0oDbI91J",
        "colab_type": "code",
        "colab": {}
      },
      "source": [
        "memezip = list(zip(meme, memelabel))\n",
        "notezip = list(zip(note, notelabel))"
      ],
      "execution_count": 9,
      "outputs": []
    },
    {
      "cell_type": "code",
      "metadata": {
        "id": "NmDMTIhUJBFN",
        "colab_type": "code",
        "colab": {}
      },
      "source": [
        "toshuffle = []\n",
        "toshuffle = memezip[0:750] + notezip[0:750]\n",
        "random.shuffle(toshuffle)\n",
        "xtrain, ytrain = list(zip(*toshuffle))\n",
        "\n",
        "toshuffle = []\n",
        "toshuffle = memezip[750:775] + notezip[750:775]\n",
        "random.shuffle(toshuffle)\n",
        "xtest, ytest = list(zip(*toshuffle))\n",
        "\n",
        "toshuffle = []\n",
        "toshuffle = memezip[775:] + notezip[775:]\n",
        "random.shuffle(toshuffle)\n",
        "xval, yval = list(zip(*toshuffle))"
      ],
      "execution_count": 28,
      "outputs": []
    },
    {
      "cell_type": "code",
      "metadata": {
        "id": "TbsPKQs6x9FQ",
        "colab_type": "code",
        "colab": {}
      },
      "source": [
        "xtrain = torch.Tensor(xtrain)\n",
        "xtest = torch.Tensor(xtest)\n",
        "xval = torch.Tensor(xval)\n",
        "ytrain = torch.Tensor(ytrain).long()\n",
        "ytest = torch.Tensor(ytest).long()\n",
        "yval = torch.Tensor(yval).long()\n",
        "xtrain/=255.0\n",
        "xtest/=255.0\n",
        "xval /=255.0"
      ],
      "execution_count": 29,
      "outputs": []
    },
    {
      "cell_type": "code",
      "metadata": {
        "id": "iqGqfUFLJOfW",
        "colab_type": "code",
        "colab": {}
      },
      "source": [
        "class DenseNet(nn.Module):\n",
        "    def __init__(self):\n",
        "        super().__init__()\n",
        "        self.dense1 = nn.Linear(30000, 10000)\n",
        "        self.dense2 = nn.Linear(10000, 5000)\n",
        "        self.dense3 = nn.Linear(5000,1000)\n",
        "        self.dense4 = nn.Linear(1000,500)\n",
        "        self.dense5 = nn.Linear(500,100)\n",
        "        self.dense6 = nn.Linear(100,50)\n",
        "        self.dense7 = nn.Linear(50,2)\n",
        "    def forward(self,x):\n",
        "        x = x.flatten(1)\n",
        "        x = self.dense1(x)\n",
        "        x = F.relu(x)\n",
        "        x = self.dense2(x)\n",
        "        x = F.relu(x)\n",
        "        x = self.dense3(x)\n",
        "        x = F.relu(x)\n",
        "        x = self.dense4(x)\n",
        "        x = F.relu(x)\n",
        "        x = self.dense5(x)\n",
        "        x = F.relu(x)\n",
        "        x = self.dense6(x)\n",
        "        x = F.relu(x)\n",
        "        x = self.dense7(x)\n",
        "        return x"
      ],
      "execution_count": 38,
      "outputs": []
    },
    {
      "cell_type": "code",
      "metadata": {
        "id": "S1GnN0UxJS2G",
        "colab_type": "code",
        "colab": {
          "base_uri": "https://localhost:8080/",
          "height": 181
        },
        "outputId": "62893755-156f-4985-b153-2102a0191829"
      },
      "source": [
        "net = DenseNet()\n",
        "print(net)"
      ],
      "execution_count": 39,
      "outputs": [
        {
          "output_type": "stream",
          "text": [
            "DenseNet(\n",
            "  (dense1): Linear(in_features=30000, out_features=10000, bias=True)\n",
            "  (dense2): Linear(in_features=10000, out_features=5000, bias=True)\n",
            "  (dense3): Linear(in_features=5000, out_features=1000, bias=True)\n",
            "  (dense4): Linear(in_features=1000, out_features=500, bias=True)\n",
            "  (dense5): Linear(in_features=500, out_features=100, bias=True)\n",
            "  (dense6): Linear(in_features=100, out_features=50, bias=True)\n",
            "  (dense7): Linear(in_features=50, out_features=2, bias=True)\n",
            ")\n"
          ],
          "name": "stdout"
        }
      ]
    },
    {
      "cell_type": "code",
      "metadata": {
        "id": "EZqKfqrlJT5V",
        "colab_type": "code",
        "colab": {}
      },
      "source": [
        "optimizer = torch.optim.Adam(net.parameters(),lr=0.00001)\n",
        "vlossfn = nn.CrossEntropyLoss()\n",
        "lossfn = nn.CrossEntropyLoss()"
      ],
      "execution_count": 40,
      "outputs": []
    },
    {
      "cell_type": "code",
      "metadata": {
        "id": "OlRAhNRn-gAh",
        "colab_type": "code",
        "colab": {
          "base_uri": "https://localhost:8080/",
          "height": 72
        },
        "outputId": "dd1c887e-8172-40a1-d383-b8313d4b8242"
      },
      "source": [
        "print(xtrain.shape)\n",
        "print(xtest.shape)\n",
        "print(xval.shape)"
      ],
      "execution_count": 41,
      "outputs": [
        {
          "output_type": "stream",
          "text": [
            "torch.Size([1500, 3, 100, 100])\n",
            "torch.Size([50, 3, 100, 100])\n",
            "torch.Size([50, 3, 100, 100])\n"
          ],
          "name": "stdout"
        }
      ]
    },
    {
      "cell_type": "code",
      "metadata": {
        "id": "FMUchw-c-9ql",
        "colab_type": "code",
        "colab": {}
      },
      "source": [
        "def accuracy(label, pred):\n",
        "  count =0\n",
        "  pred = torch.argmax(pred, dim=1, keepdims=True)\n",
        "  pred = pred.reshape(pred.shape[0])\n",
        "  for i in range(len(label)):\n",
        "    if label[i]==pred[i]:\n",
        "      count+=1\n",
        "  return 100*count/label.shape[0]\n"
      ],
      "execution_count": 42,
      "outputs": []
    },
    {
      "cell_type": "code",
      "metadata": {
        "id": "N2g1p0jdkcSu",
        "colab_type": "code",
        "colab": {
          "base_uri": "https://localhost:8080/",
          "height": 35
        },
        "outputId": "0f1b4567-18d8-4b90-9aeb-1ab635e8f54f"
      },
      "source": [
        "print(xtest.shape)"
      ],
      "execution_count": 43,
      "outputs": [
        {
          "output_type": "stream",
          "text": [
            "torch.Size([50, 3, 100, 100])\n"
          ],
          "name": "stdout"
        }
      ]
    },
    {
      "cell_type": "code",
      "metadata": {
        "id": "5qOOtnzcJbim",
        "colab_type": "code",
        "colab": {
          "base_uri": "https://localhost:8080/",
          "height": 781
        },
        "outputId": "9a960d15-33f2-49b3-901e-ecde5a83ae02"
      },
      "source": [
        "trainacc = []\n",
        "testacc = []\n",
        "trainloss = []\n",
        "testloss = []\n",
        "valacc = []\n",
        "valloss = []\n",
        "\n",
        "for i in range(7):\n",
        "    k=0\n",
        "    for j in range(30): \n",
        "      \n",
        "      output = net.forward(xtrain[k:k+50])\n",
        "      loss = lossfn(output, ytrain[k:k+50])\n",
        "        \n",
        "      k+=50\n",
        "      optimizer.zero_grad()\n",
        "      loss.backward()\n",
        "      optimizer.step()\n",
        "    \n",
        "    with torch.no_grad():\n",
        "\n",
        "      accu = accuracy(ytrain, net.forward(xtrain))\n",
        "      vloss = lossfn(net.forward(xval),yval)\n",
        "      tacc = accuracy(ytest, net.forward(xtest))\n",
        "      vacc = accuracy(yval,net.forward(xval))\n",
        "\n",
        "    \n",
        "    print(f\"training loss:{loss}\")\n",
        "    trainloss.append(loss)\n",
        "    print(f\"validation loss:{vloss}\")\n",
        "    valloss.append(vloss.item())\n",
        "    print(f\"training accuracy:{accu}\")\n",
        "    trainacc.append(accu)\n",
        "    print(f\"validation accuracy:{vacc}\")\n",
        "    valacc.append(vacc)\n",
        "    print(f\"testing accuracy:{tacc}\")\n",
        "    testacc.append(tacc)\n",
        "    print()"
      ],
      "execution_count": 44,
      "outputs": [
        {
          "output_type": "stream",
          "text": [
            "training loss:0.6069009304046631\n",
            "validation loss:0.6248615384101868\n",
            "training accuracy:75.33333333333333\n",
            "validation accuracy:76.0\n",
            "testing accuracy:84.0\n",
            "\n",
            "training loss:0.42739298939704895\n",
            "validation loss:0.5062243938446045\n",
            "training accuracy:73.26666666666667\n",
            "validation accuracy:76.0\n",
            "testing accuracy:82.0\n",
            "\n",
            "training loss:0.3408723473548889\n",
            "validation loss:0.4553183317184448\n",
            "training accuracy:75.53333333333333\n",
            "validation accuracy:76.0\n",
            "testing accuracy:82.0\n",
            "\n",
            "training loss:0.28315696120262146\n",
            "validation loss:0.38766899704933167\n",
            "training accuracy:79.73333333333333\n",
            "validation accuracy:78.0\n",
            "testing accuracy:88.0\n",
            "\n",
            "training loss:0.21504557132720947\n",
            "validation loss:0.33857595920562744\n",
            "training accuracy:84.73333333333333\n",
            "validation accuracy:82.0\n",
            "testing accuracy:90.0\n",
            "\n",
            "training loss:0.13965366780757904\n",
            "validation loss:0.2933914363384247\n",
            "training accuracy:87.53333333333333\n",
            "validation accuracy:86.0\n",
            "testing accuracy:92.0\n",
            "\n",
            "training loss:0.08705905824899673\n",
            "validation loss:0.24434098601341248\n",
            "training accuracy:92.0\n",
            "validation accuracy:90.0\n",
            "testing accuracy:96.0\n",
            "\n"
          ],
          "name": "stdout"
        }
      ]
    },
    {
      "cell_type": "code",
      "metadata": {
        "id": "OUzYwQt0bNff",
        "colab_type": "code",
        "colab": {
          "base_uri": "https://localhost:8080/",
          "height": 1000
        },
        "outputId": "41d59323-4134-45ad-8fea-7d9d3f5404f0"
      },
      "source": [
        "from matplotlib import pyplot as plt\n",
        "def plot(data,labelx,labely):\n",
        "  plt.plot(data)\n",
        "  plt.xlabel(labelx)\n",
        "  plt.ylabel(labely)\n",
        "  plt.show()\n",
        "\n",
        "plot(testacc, 'epoch','Test Accuracy')\n",
        "plot(trainacc,'epoch','Train Accuracy')\n",
        "plot(valacc,'epoch','Validaion Accuracy')\n",
        "plot(trainloss,'epoch','Train loss')\n",
        "plot(valloss,'epoch','Test loss')"
      ],
      "execution_count": 45,
      "outputs": [
        {
          "output_type": "display_data",
          "data": {
            "image/png": "[encoded data removed]",
            "text/plain": [
              "<Figure size 432x288 with 1 Axes>"
            ]
          },
          "metadata": {
            "tags": [],
            "needs_background": "light"
          }
        },
        {
          "output_type": "display_data",
          "data": {
            "image/png": "[encoded data removed]",
            "text/plain": [
              "<Figure size 432x288 with 1 Axes>"
            ]
          },
          "metadata": {
            "tags": [],
            "needs_background": "light"
          }
        },
        {
          "output_type": "display_data",
          "data": {
            "image/png": "[encoded data removed]",
            "text/plain": [
              "<Figure size 432x288 with 1 Axes>"
            ]
          },
          "metadata": {
            "tags": [],
            "needs_background": "light"
          }
        },
        {
          "output_type": "display_data",
          "data": {
            "image/png": "[encoded data removed]",
            "text/plain": [
              "<Figure size 432x288 with 1 Axes>"
            ]
          },
          "metadata": {
            "tags": [],
            "needs_background": "light"
          }
        },
        {
          "output_type": "display_data",
          "data": {
            "image/png": "[encoded data removed]",
            "text/plain": [
              "<Figure size 432x288 with 1 Axes>"
            ]
          },
          "metadata": {
            "tags": [],
            "needs_background": "light"
          }
        }
      ]
    },
    {
      "cell_type": "code",
      "metadata": {
        "id": "fN0nG_O-p__h",
        "colab_type": "code",
        "colab": {}
      },
      "source": [
        ""
      ],
      "execution_count": 45,
      "outputs": []
    }
  ]
}