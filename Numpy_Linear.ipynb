{
  "nbformat": 4,
  "nbformat_minor": 0,
  "metadata": {
    "kernelspec": {
      "display_name": "Python 3",
      "language": "python",
      "name": "python3"
    },
    "language_info": {
      "codemirror_mode": {
        "name": "ipython",
        "version": 3
      },
      "file_extension": ".py",
      "mimetype": "text/x-python",
      "name": "python",
      "nbconvert_exporter": "python",
      "pygments_lexer": "ipython3",
      "version": "3.7.6"
    },
    "colab": {
      "name": "Numpy Linear",
      "provenance": [],
      "include_colab_link": true
    }
  },
  "cells": [
    {
      "cell_type": "markdown",
      "metadata": {
        "id": "view-in-github",
        "colab_type": "text"
      },
      "source": [
        "<a href=\"https://colab.research.google.com/github/Kshitij-Ambilduke/Memes-vs-Notes/blob/master/Numpy_Linear.ipynb\" target=\"_parent\"><img src=\"https://colab.research.google.com/assets/colab-badge.svg\" alt=\"Open In Colab\"/></a>"
      ]
    },
    {
      "cell_type": "code",
      "metadata": {
        "id": "akE-sGsGq7i6",
        "colab_type": "code",
        "colab": {
          "base_uri": "https://localhost:8080/",
          "height": 35
        },
        "outputId": "4f04b44c-de40-4b9b-bfa8-458ee8837188"
      },
      "source": [
        "from google.colab import drive\n",
        "drive.mount('/content/drive')"
      ],
      "execution_count": 27,
      "outputs": [
        {
          "output_type": "stream",
          "text": [
            "Drive already mounted at /content/drive; to attempt to forcibly remount, call drive.mount(\"/content/drive\", force_remount=True).\n"
          ],
          "name": "stdout"
        }
      ]
    },
    {
      "cell_type": "code",
      "metadata": {
        "id": "VOQaj9GSq7i_",
        "colab_type": "code",
        "colab": {}
      },
      "source": [
        "\n",
        "import os\n",
        "#import torch\n",
        "#import torch.nn as nn\n",
        "#import torch.nn.functional as F\n",
        "import cv2\n",
        "import random\n",
        "import numpy as np"
      ],
      "execution_count": 28,
      "outputs": []
    },
    {
      "cell_type": "code",
      "metadata": {
        "id": "1t5oT9hrtTi0",
        "colab_type": "code",
        "colab": {}
      },
      "source": [
        "meme_path = \"/content/drive/My Drive/dataset stage 0 /meme\"\n",
        "note_path = \"/content/drive/My Drive/dataset stage 0 /note\""
      ],
      "execution_count": 29,
      "outputs": []
    },
    {
      "cell_type": "code",
      "metadata": {
        "id": "Yy-MtmNQtWtY",
        "colab_type": "code",
        "colab": {}
      },
      "source": [
        "def dataloader(folder,label):\n",
        "    images=[]\n",
        "    labels=[]\n",
        "    for file in os.listdir(folder):\n",
        "        img = cv2.imread(os.path.join(folder,file),0)\n",
        "        #img = cv2.cvtColor(img, cv2.COLOR_BGR2RGB)\n",
        "        img = cv2.resize(img, (100,100))\n",
        "        images.append(img)\n",
        "        labels.append(label)\n",
        "    return images, labels"
      ],
      "execution_count": 30,
      "outputs": []
    },
    {
      "cell_type": "code",
      "metadata": {
        "id": "afZGlQOJtZg-",
        "colab_type": "code",
        "colab": {}
      },
      "source": [
        "meme, memelabel = dataloader(meme_path, 1)\n",
        "note, notelabel = dataloader(note_path, 0)"
      ],
      "execution_count": 31,
      "outputs": []
    },
    {
      "cell_type": "code",
      "metadata": {
        "id": "oigPlvxyuqiq",
        "colab_type": "code",
        "colab": {}
      },
      "source": [
        "meme = np.array(meme)\n",
        "memelabel = np.array(memelabel)\n",
        "#print(meme.__len__())\n",
        "meme = meme.reshape(800,1,100,100)\n",
        "note = np.array(note)\n",
        "note = note.reshape(800,1,100,100)\n",
        "notelabel = np.array(notelabel)\n",
        "#print(len(notelabel))\n",
        "\n",
        "memezip = list(zip(meme, memelabel))\n",
        "notezip = list(zip(note, notelabel))\n",
        "\n",
        "toshuffle = []\n",
        "toshuffle = memezip[0:750] + notezip[0:750]\n",
        "random.shuffle(toshuffle)\n",
        "xtrain, ytrain = list(zip(*toshuffle))\n",
        "\n",
        "toshuffle = []\n",
        "toshuffle = memezip[750:775] + notezip[750:775]\n",
        "random.shuffle(toshuffle)\n",
        "xtest, ytest = list(zip(*toshuffle))\n",
        "\n",
        "toshuffle = []\n",
        "toshuffle = memezip[775:] + notezip[775:]\n",
        "random.shuffle(toshuffle)\n",
        "xval, yval = list(zip(*toshuffle))"
      ],
      "execution_count": 32,
      "outputs": []
    },
    {
      "cell_type": "code",
      "metadata": {
        "id": "fUf1SJZn1B4h",
        "colab_type": "code",
        "colab": {
          "base_uri": "https://localhost:8080/",
          "height": 35
        },
        "outputId": "0ae79cf3-121f-4fd2-a95c-e139a372821c"
      },
      "source": [
        "xtrain = np.array(xtrain)\n",
        "xtest = np.array(xtest)\n",
        "xval = np.array(xval)\n",
        "\n",
        "xtrain = xtrain.reshape(1500,-1)\n",
        "xtest = xtest.reshape(50,-1)\n",
        "xval = xval.reshape(50,-1)\n",
        "\n",
        "print(xtrain.shape)\n"
      ],
      "execution_count": 33,
      "outputs": [
        {
          "output_type": "stream",
          "text": [
            "(1500, 10000)\n"
          ],
          "name": "stdout"
        }
      ]
    },
    {
      "cell_type": "code",
      "metadata": {
        "id": "-bDzSKVVva7i",
        "colab_type": "code",
        "colab": {}
      },
      "source": [
        "xtrain = np.array(xtrain).T\n",
        "xtest = np.array(xtest).T\n",
        "xval = np.array(xval).T\n"
      ],
      "execution_count": 34,
      "outputs": []
    },
    {
      "cell_type": "code",
      "metadata": {
        "id": "S7JlByeQxyx3",
        "colab_type": "code",
        "colab": {
          "base_uri": "https://localhost:8080/",
          "height": 35
        },
        "outputId": "243c7d40-7d0c-4d10-9326-c672623908cc"
      },
      "source": [
        "print(xtrain.shape)"
      ],
      "execution_count": 35,
      "outputs": [
        {
          "output_type": "stream",
          "text": [
            "(10000, 1500)\n"
          ],
          "name": "stdout"
        }
      ]
    },
    {
      "cell_type": "code",
      "metadata": {
        "id": "txb1QHYlq7jE",
        "colab_type": "code",
        "colab": {}
      },
      "source": [
        "def one_hot(y):\n",
        "  Y = np.zeros((2,y.shape[0]))\n",
        "  for n,i in enumerate(range(len(y))):\n",
        "    #if y[i]!=0:\n",
        "    Y[y[i],n]=1\n",
        "  return Y\n",
        "\n",
        "Ytrain = one_hot(np.array(ytrain))\n",
        "Ytest = one_hot(np.array(ytest))\n",
        "Yval = one_hot(np.array(yval))"
      ],
      "execution_count": 36,
      "outputs": []
    },
    {
      "cell_type": "code",
      "metadata": {
        "id": "yv7AL5hE0DCd",
        "colab_type": "code",
        "colab": {
          "base_uri": "https://localhost:8080/",
          "height": 35
        },
        "outputId": "03d8ab64-e8c5-49b0-d4c3-e8a6232552b0"
      },
      "source": [
        "print(xtrain.shape)\n"
      ],
      "execution_count": 37,
      "outputs": [
        {
          "output_type": "stream",
          "text": [
            "(10000, 1500)\n"
          ],
          "name": "stdout"
        }
      ]
    },
    {
      "cell_type": "code",
      "metadata": {
        "id": "wHm15Pphq7jI",
        "colab_type": "code",
        "colab": {}
      },
      "source": [
        "ytrain = np.array(ytrain)\n",
        "yval = np.array(yval)\n",
        "ytest = np.array(ytest)"
      ],
      "execution_count": 38,
      "outputs": []
    },
    {
      "cell_type": "code",
      "metadata": {
        "id": "vnLzeTSYq7jO",
        "colab_type": "code",
        "colab": {
          "base_uri": "https://localhost:8080/",
          "height": 35
        },
        "outputId": "fbc21b2a-26d2-4d0c-802d-6401ed5ae021"
      },
      "source": [
        "print(xtrain.shape)"
      ],
      "execution_count": 39,
      "outputs": [
        {
          "output_type": "stream",
          "text": [
            "(10000, 1500)\n"
          ],
          "name": "stdout"
        }
      ]
    },
    {
      "cell_type": "code",
      "metadata": {
        "id": "vEChjegEq7jc",
        "colab_type": "code",
        "colab": {}
      },
      "source": [
        "def initialize_parameters(dims):\n",
        "    parameters={}\n",
        "    l = len(dims)\n",
        "    for i in range(1,l):\n",
        "        parameters['W'+str(i)] = np.random.randn(dims[i],dims[i-1])*0.01\n",
        "        parameters['b'+str(i)] = np.zeros((dims[i],1))\n",
        "    return parameters"
      ],
      "execution_count": 40,
      "outputs": []
    },
    {
      "cell_type": "code",
      "metadata": {
        "id": "NpfGkHrBq7jg",
        "colab_type": "code",
        "colab": {}
      },
      "source": [
        "def relu(Z):\n",
        "    x = np.maximum(0,Z)\n",
        "    return x"
      ],
      "execution_count": 41,
      "outputs": []
    },
    {
      "cell_type": "code",
      "metadata": {
        "id": "y5ffLVfhq7jj",
        "colab_type": "code",
        "colab": {}
      },
      "source": [
        "def softmax(x):\n",
        "    \"\"\"Compute softmax values for each sets of scores in x.\"\"\"\n",
        "    e_x = np.exp(x - np.max(x))\n",
        "    return e_x/np.sum(e_x, axis=0, keepdims=True)"
      ],
      "execution_count": 42,
      "outputs": []
    },
    {
      "cell_type": "code",
      "metadata": {
        "id": "94I7zvffq7jl",
        "colab_type": "code",
        "colab": {}
      },
      "source": [
        "def forward_propagation(X, parameters):\n",
        "    cache = {}\n",
        "    l = len(parameters)//2\n",
        "    cache['A0'] = X\n",
        "    for i in range(1,l+1):\n",
        "        cache['Z'+str(i)] = np.dot(parameters['W'+str(i)],cache['A'+str(i-1)]) + parameters['b'+str(i)]\n",
        "        \n",
        "        cache['A'+str(i)] = relu(cache['Z'+str(i)])\n",
        "        \n",
        "    cache['A'+str(l)] = softmax(cache['Z'+str(l)])\n",
        "            \n",
        "    return cache"
      ],
      "execution_count": 43,
      "outputs": []
    },
    {
      "cell_type": "code",
      "metadata": {
        "id": "2fvZ5KOUq7jp",
        "colab_type": "code",
        "colab": {}
      },
      "source": [
        "def compute_cost(AL,Y):\n",
        "    m = Y.shape[1]\n",
        "    cost = -1*np.sum(Y*np.log(AL))/m\n",
        "    return cost"
      ],
      "execution_count": 44,
      "outputs": []
    },
    {
      "cell_type": "code",
      "metadata": {
        "id": "-LJ_WA-Lq7jt",
        "colab_type": "code",
        "colab": {}
      },
      "source": [
        "def backRelu(Z):\n",
        "    z = np.zeros((Z.shape[0],Z.shape[1]))\n",
        "    for i in range(Z.shape[0]):\n",
        "      for j in range(Z.shape[1]):\n",
        "        if Z[i,j]>0:\n",
        "          z[i,j] = 1\n",
        "        else:\n",
        "          z[i,j] = 0\n",
        "    return z\n",
        "        "
      ],
      "execution_count": 45,
      "outputs": []
    },
    {
      "cell_type": "code",
      "metadata": {
        "id": "lVsCCJkWq7jy",
        "colab_type": "code",
        "colab": {}
      },
      "source": [
        "def back_propagation(X, Y, parameters, cache):\n",
        "    m = Y.shape[1]\n",
        "    l = len(parameters)//2\n",
        "    back_cache = {}\n",
        "    \n",
        "    dZ = cache['A'+str(l)] - Y\n",
        "    back_cache['dW'+str(l)] = (1/m)*np.dot(dZ, cache['A'+str(l-1)].T)\n",
        "    back_cache['db'+str(l)] = (1/m)*np.sum(dZ, axis=1, keepdims = True)\n",
        "    \n",
        "    for i in reversed(range(1,l)):\n",
        "        dZ = np.dot(parameters['W'+str(i+1)].T,dZ)*backRelu(cache['Z'+str(i)])\n",
        "        back_cache['dW'+str(i)] = (1/m)*np.dot(dZ, cache['A'+str(i-1)].T)\n",
        "        back_cache['db'+str(i)] = (1/m)*np.sum(dZ, axis=1, keepdims=True)\n",
        "     \n",
        "    return back_cache"
      ],
      "execution_count": 46,
      "outputs": []
    },
    {
      "cell_type": "code",
      "metadata": {
        "id": "Mxn8Ximxq7j3",
        "colab_type": "code",
        "colab": {}
      },
      "source": [
        "def update(paramters, back_cache, lr):\n",
        "    l = len(parameters)//2\n",
        "    for i in range(1,l+1):\n",
        "        parameters['W'+str(i)] -= lr*back_cache['dW'+str(i)]\n",
        "        parameters['b'+str(i)] -= lr*back_cache['db'+str(i)]\n",
        "        \n",
        "    return parameters\n",
        "        "
      ],
      "execution_count": 47,
      "outputs": []
    },
    {
      "cell_type": "code",
      "metadata": {
        "id": "at2P-jUckRoR",
        "colab_type": "code",
        "colab": {}
      },
      "source": [
        "def predict(pred, Y):\n",
        "  temp=[]\n",
        "  pred = pred.T\n",
        "  for i in pred:\n",
        "    temp.append(np.argmax(i))\n",
        "  \n",
        "  count = 0\n",
        "\n",
        "  for i in range(len(temp)):\n",
        "    if temp[i] == Y[i]:\n",
        "      count+=1\n",
        "      \n",
        "  return count\n",
        "    \n",
        "\n"
      ],
      "execution_count": 48,
      "outputs": []
    },
    {
      "cell_type": "code",
      "metadata": {
        "id": "VOW0_Wu-296p",
        "colab_type": "code",
        "colab": {}
      },
      "source": [
        "ytrain = np.array(ytrain)"
      ],
      "execution_count": 49,
      "outputs": []
    },
    {
      "cell_type": "code",
      "metadata": {
        "id": "MhDgSOKOq7j5",
        "colab_type": "code",
        "colab": {}
      },
      "source": [
        "parameters = initialize_parameters([10000, 5000,100, 2])"
      ],
      "execution_count": 64,
      "outputs": []
    },
    {
      "cell_type": "code",
      "metadata": {
        "id": "831Qoz-33dno",
        "colab_type": "code",
        "colab": {}
      },
      "source": [
        "#print(ytrain.shape)\n",
        "xtrain = xtrain/255"
      ],
      "execution_count": 51,
      "outputs": []
    },
    {
      "cell_type": "code",
      "metadata": {
        "id": "4AJ-HrdXyYno",
        "colab_type": "code",
        "colab": {}
      },
      "source": [
        "xval = xval/255\n",
        "xtest = xtest/255"
      ],
      "execution_count": 63,
      "outputs": []
    },
    {
      "cell_type": "code",
      "metadata": {
        "scrolled": true,
        "id": "DoDs4urgq7j-",
        "colab_type": "code",
        "colab": {
          "base_uri": "https://localhost:8080/",
          "height": 472
        },
        "outputId": "71b569d6-b9a3-4211-8abd-773ca808f894"
      },
      "source": [
        "trainloss=[]\n",
        "valloss = []\n",
        "trainacc = []\n",
        "valacc = []\n",
        "testacc = []\n",
        "\n",
        "for i in range(5):\n",
        "    k=0\n",
        "    for j in range(150):\n",
        "\n",
        "        cache = forward_propagation(xtrain[:,k:k+10], parameters)\n",
        "       \n",
        "\n",
        "        c = compute_cost(cache['A'+str(len([10000, 5000,100, 2])-1)],Ytrain[:,k:k+10])\n",
        "        #vloss = compute_cost(valcache['A'+str(len([10000, 5000,100, 2])-1)],Yval[:,k:k+10])    \n",
        "\n",
        "\n",
        "        grads = back_propagation(xtrain, Ytrain[:,k:k+10], parameters, cache)\n",
        "        parameters = update(parameters, grads, 0.01)\n",
        "        k+=10\n",
        "\n",
        "    valcache = forward_propagation(xval, parameters)\n",
        "    testcache = forward_propagation(xtest, parameters)\n",
        "    cache = forward_propagation(xtrain, parameters)     \n",
        "    \n",
        "    c = compute_cost(cache['A'+str(len([10000, 5000,100, 2])-1)],Ytrain)\n",
        "    vloss = compute_cost(valcache['A'+str(len([10000, 5000,100, 2])-1)],Yval)  \n",
        "\n",
        "        \n",
        "    tracc = predict(cache['A'+str(len([10000, 5000,100, 2])-1)],ytrain)\n",
        "    vacc = predict(valcache['A'+str(len([10000, 5000,100, 2])-1)],yval)\n",
        "    tacc = predict(testcache['A'+str(len([10000, 5000,100, 2])-1)],ytest)\n",
        "\n",
        "    trainloss.append(c)\n",
        "    valloss.append(vloss) \n",
        "    trainacc.append(tracc)\n",
        "    valacc.append(vacc) \n",
        "    testacc.append(tacc)\n",
        "\n",
        "    print(c) \n",
        "    print(f\"training acc = {tracc}\")\n",
        "    print(f\"testing acc = {tacc}\")\n",
        "    print(f\"validation acc = {vacc}\")\n",
        "    print()  \n",
        "    \n"
      ],
      "execution_count": 65,
      "outputs": [
        {
          "output_type": "stream",
          "text": [
            "0.6097969217966318\n",
            "training acc = 1002\n",
            "testing acc = 32\n",
            "validation acc = 32\n",
            "\n",
            "0.45852175572144294\n",
            "training acc = 1208\n",
            "testing acc = 39\n",
            "validation acc = 40\n",
            "\n",
            "0.20682679368460666\n",
            "training acc = 1379\n",
            "testing acc = 47\n",
            "validation acc = 45\n",
            "\n",
            "0.14189025141747327\n",
            "training acc = 1429\n",
            "testing acc = 49\n",
            "validation acc = 45\n",
            "\n",
            "0.16857241236409465\n",
            "training acc = 1406\n",
            "testing acc = 48\n",
            "validation acc = 45\n",
            "\n"
          ],
          "name": "stdout"
        }
      ]
    },
    {
      "cell_type": "code",
      "metadata": {
        "id": "xfZjvZkwq7kB",
        "colab_type": "code",
        "colab": {
          "base_uri": "https://localhost:8080/",
          "height": 1000
        },
        "outputId": "08610c0f-89e7-4d37-91ee-69ab8ff2e76e"
      },
      "source": [
        "from matplotlib import pyplot as plt\n",
        "def plot(data,labelx,labely):\n",
        "  plt.plot(data)\n",
        "  plt.xlabel(labelx)\n",
        "  plt.ylabel(labely)\n",
        "  plt.show()\n",
        "plot(trainacc,'epoch','train acc')\n",
        "plot(testacc,'epoch','test acc')\n",
        "plot(valacc,'epoch','val acc')\n",
        "plot(trainloss,'epoch','trainloss')\n",
        "plot(valloss,'epoch','val loss')\n"
      ],
      "execution_count": 66,
      "outputs": [
        {
          "output_type": "display_data",
          "data": {
            "image/png": "[encoded data removed]",
            "text/plain": [
              "<Figure size 432x288 with 1 Axes>"
            ]
          },
          "metadata": {
            "tags": [],
            "needs_background": "light"
          }
        },
        {
          "output_type": "display_data",
          "data": {
            "image/png": "[encoded data removed]",
            "text/plain": [
              "<Figure size 432x288 with 1 Axes>"
            ]
          },
          "metadata": {
            "tags": [],
            "needs_background": "light"
          }
        },
        {
          "output_type": "display_data",
          "data": {
            "image/png": "[encoded data removed]",
            "text/plain": [
              "<Figure size 432x288 with 1 Axes>"
            ]
          },
          "metadata": {
            "tags": [],
            "needs_background": "light"
          }
        },
        {
          "output_type": "display_data",
          "data": {
            "image/png": "[encoded data removed]",
            "text/plain": [
              "<Figure size 432x288 with 1 Axes>"
            ]
          },
          "metadata": {
            "tags": [],
            "needs_background": "light"
          }
        },
        {
          "output_type": "display_data",
          "data": {
            "image/png": "[encoded data removed]",
            "text/plain": [
              "<Figure size 432x288 with 1 Axes>"
            ]
          },
          "metadata": {
            "tags": [],
            "needs_background": "light"
          }
        }
      ]
    }
  ]
}